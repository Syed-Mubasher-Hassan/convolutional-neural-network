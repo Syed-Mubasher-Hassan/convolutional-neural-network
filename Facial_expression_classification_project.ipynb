{
  "nbformat": 4,
  "nbformat_minor": 0,
  "metadata": {
    "colab": {
      "provenance": [],
      "gpuType": "T4"
    },
    "kernelspec": {
      "name": "python3",
      "display_name": "Python 3"
    },
    "language_info": {
      "name": "python"
    },
    "accelerator": "GPU"
  },
  "cells": [
    {
      "cell_type": "code",
      "source": [],
      "metadata": {
        "id": "4af710lGKLGF"
      },
      "execution_count": null,
      "outputs": []
    },
    {
      "cell_type": "markdown",
      "source": [
        "import libraries"
      ],
      "metadata": {
        "id": "kwyE6tO_8xc8"
      }
    },
    {
      "cell_type": "code",
      "source": [
        "import numpy as np\n",
        "import os\n",
        "import glob\n",
        "import pandas as pd\n",
        "import PIL\n",
        "from PIL import Image"
      ],
      "metadata": {
        "id": "oJX0Rqf88AyR"
      },
      "execution_count": 1,
      "outputs": []
    },
    {
      "cell_type": "markdown",
      "source": [
        "# images are save in Google Drive"
      ],
      "metadata": {
        "id": "H09tGv-M9L8l"
      }
    },
    {
      "cell_type": "code",
      "source": [
        "# store the images path in variable images_dir\n",
        "images_dir='/content/drive/MyDrive/Colab Notebooks/processed_data/origin'"
      ],
      "metadata": {
        "id": "qhJphTdR9RcI"
      },
      "execution_count": 2,
      "outputs": []
    },
    {
      "cell_type": "code",
      "source": [
        "# create list name with images  and store all images in this list using glob and os\n",
        "\n",
        "images = list(glob.glob(os.path.join(images_dir, '*.jpg')))\n",
        "# showing image using PIL.image\n",
        "PIL.Image.open(str(images[4]))"
      ],
      "metadata": {
        "id": "CLAv867l8az7"
      },
      "execution_count": null,
      "outputs": []
    },
    {
      "cell_type": "code",
      "source": [
        "# create data frame for label.list features\n",
        "\n",
        "labels_file = \"/content/drive/MyDrive/data/label/label.lst\"\n",
        "df = pd.read_csv(labels_file, header=None, delimiter=\" \", names=['image_name', 'face_id_in_image',\n",
        "                                                                 'face_box_top', 'face_box_left',\n",
        "                                                                 'face_box_right','face_box_bottom',\n",
        "                                                                 'face_box_cofidence', 'expression_label'])"
      ],
      "metadata": {
        "id": "h9NYV_7p9sAM"
      },
      "execution_count": 4,
      "outputs": []
    },
    {
      "cell_type": "code",
      "source": [
        "df.head()"
      ],
      "metadata": {
        "colab": {
          "base_uri": "https://localhost:8080/",
          "height": 270
        },
        "id": "Xp7KZtLI9uNj",
        "outputId": "a06a1b7f-0b00-4bf6-8397-f5501df633c9"
      },
      "execution_count": 5,
      "outputs": [
        {
          "output_type": "execute_result",
          "data": {
            "text/plain": [
              "            image_name  face_id_in_image  face_box_top  face_box_left  \\\n",
              "0  angry_actor_104.jpg                 0            28            113   \n",
              "1  angry_actor_109.jpg                 0            31            157   \n",
              "2  angry_actor_120.jpg                 1            53             53   \n",
              "3   angry_actor_13.jpg                 0            77             51   \n",
              "4  angry_actor_132.jpg                 0            95             31   \n",
              "\n",
              "   face_box_right  face_box_bottom  face_box_cofidence  expression_label  \n",
              "0             226              141             22.9362                 0  \n",
              "1             345              219             50.3056                 0  \n",
              "2             372              372             13.9434                 2  \n",
              "3             362              388             85.8104                 3  \n",
              "4             412              476             82.3948                 0  "
            ],
            "text/html": [
              "\n",
              "\n",
              "  <div id=\"df-d6e9468b-271a-460b-ad41-082a707dda6a\">\n",
              "    <div class=\"colab-df-container\">\n",
              "      <div>\n",
              "<style scoped>\n",
              "    .dataframe tbody tr th:only-of-type {\n",
              "        vertical-align: middle;\n",
              "    }\n",
              "\n",
              "    .dataframe tbody tr th {\n",
              "        vertical-align: top;\n",
              "    }\n",
              "\n",
              "    .dataframe thead th {\n",
              "        text-align: right;\n",
              "    }\n",
              "</style>\n",
              "<table border=\"1\" class=\"dataframe\">\n",
              "  <thead>\n",
              "    <tr style=\"text-align: right;\">\n",
              "      <th></th>\n",
              "      <th>image_name</th>\n",
              "      <th>face_id_in_image</th>\n",
              "      <th>face_box_top</th>\n",
              "      <th>face_box_left</th>\n",
              "      <th>face_box_right</th>\n",
              "      <th>face_box_bottom</th>\n",
              "      <th>face_box_cofidence</th>\n",
              "      <th>expression_label</th>\n",
              "    </tr>\n",
              "  </thead>\n",
              "  <tbody>\n",
              "    <tr>\n",
              "      <th>0</th>\n",
              "      <td>angry_actor_104.jpg</td>\n",
              "      <td>0</td>\n",
              "      <td>28</td>\n",
              "      <td>113</td>\n",
              "      <td>226</td>\n",
              "      <td>141</td>\n",
              "      <td>22.9362</td>\n",
              "      <td>0</td>\n",
              "    </tr>\n",
              "    <tr>\n",
              "      <th>1</th>\n",
              "      <td>angry_actor_109.jpg</td>\n",
              "      <td>0</td>\n",
              "      <td>31</td>\n",
              "      <td>157</td>\n",
              "      <td>345</td>\n",
              "      <td>219</td>\n",
              "      <td>50.3056</td>\n",
              "      <td>0</td>\n",
              "    </tr>\n",
              "    <tr>\n",
              "      <th>2</th>\n",
              "      <td>angry_actor_120.jpg</td>\n",
              "      <td>1</td>\n",
              "      <td>53</td>\n",
              "      <td>53</td>\n",
              "      <td>372</td>\n",
              "      <td>372</td>\n",
              "      <td>13.9434</td>\n",
              "      <td>2</td>\n",
              "    </tr>\n",
              "    <tr>\n",
              "      <th>3</th>\n",
              "      <td>angry_actor_13.jpg</td>\n",
              "      <td>0</td>\n",
              "      <td>77</td>\n",
              "      <td>51</td>\n",
              "      <td>362</td>\n",
              "      <td>388</td>\n",
              "      <td>85.8104</td>\n",
              "      <td>3</td>\n",
              "    </tr>\n",
              "    <tr>\n",
              "      <th>4</th>\n",
              "      <td>angry_actor_132.jpg</td>\n",
              "      <td>0</td>\n",
              "      <td>95</td>\n",
              "      <td>31</td>\n",
              "      <td>412</td>\n",
              "      <td>476</td>\n",
              "      <td>82.3948</td>\n",
              "      <td>0</td>\n",
              "    </tr>\n",
              "  </tbody>\n",
              "</table>\n",
              "</div>\n",
              "      <button class=\"colab-df-convert\" onclick=\"convertToInteractive('df-d6e9468b-271a-460b-ad41-082a707dda6a')\"\n",
              "              title=\"Convert this dataframe to an interactive table.\"\n",
              "              style=\"display:none;\">\n",
              "\n",
              "  <svg xmlns=\"http://www.w3.org/2000/svg\" height=\"24px\"viewBox=\"0 0 24 24\"\n",
              "       width=\"24px\">\n",
              "    <path d=\"M0 0h24v24H0V0z\" fill=\"none\"/>\n",
              "    <path d=\"M18.56 5.44l.94 2.06.94-2.06 2.06-.94-2.06-.94-.94-2.06-.94 2.06-2.06.94zm-11 1L8.5 8.5l.94-2.06 2.06-.94-2.06-.94L8.5 2.5l-.94 2.06-2.06.94zm10 10l.94 2.06.94-2.06 2.06-.94-2.06-.94-.94-2.06-.94 2.06-2.06.94z\"/><path d=\"M17.41 7.96l-1.37-1.37c-.4-.4-.92-.59-1.43-.59-.52 0-1.04.2-1.43.59L10.3 9.45l-7.72 7.72c-.78.78-.78 2.05 0 2.83L4 21.41c.39.39.9.59 1.41.59.51 0 1.02-.2 1.41-.59l7.78-7.78 2.81-2.81c.8-.78.8-2.07 0-2.86zM5.41 20L4 18.59l7.72-7.72 1.47 1.35L5.41 20z\"/>\n",
              "  </svg>\n",
              "      </button>\n",
              "\n",
              "\n",
              "\n",
              "    <div id=\"df-39865e93-630f-4508-8bed-d02a840ded5a\">\n",
              "      <button class=\"colab-df-quickchart\" onclick=\"quickchart('df-39865e93-630f-4508-8bed-d02a840ded5a')\"\n",
              "              title=\"Suggest charts.\"\n",
              "              style=\"display:none;\">\n",
              "\n",
              "<svg xmlns=\"http://www.w3.org/2000/svg\" height=\"24px\"viewBox=\"0 0 24 24\"\n",
              "     width=\"24px\">\n",
              "    <g>\n",
              "        <path d=\"M19 3H5c-1.1 0-2 .9-2 2v14c0 1.1.9 2 2 2h14c1.1 0 2-.9 2-2V5c0-1.1-.9-2-2-2zM9 17H7v-7h2v7zm4 0h-2V7h2v10zm4 0h-2v-4h2v4z\"/>\n",
              "    </g>\n",
              "</svg>\n",
              "      </button>\n",
              "    </div>\n",
              "\n",
              "<style>\n",
              "  .colab-df-quickchart {\n",
              "    background-color: #E8F0FE;\n",
              "    border: none;\n",
              "    border-radius: 50%;\n",
              "    cursor: pointer;\n",
              "    display: none;\n",
              "    fill: #1967D2;\n",
              "    height: 32px;\n",
              "    padding: 0 0 0 0;\n",
              "    width: 32px;\n",
              "  }\n",
              "\n",
              "  .colab-df-quickchart:hover {\n",
              "    background-color: #E2EBFA;\n",
              "    box-shadow: 0px 1px 2px rgba(60, 64, 67, 0.3), 0px 1px 3px 1px rgba(60, 64, 67, 0.15);\n",
              "    fill: #174EA6;\n",
              "  }\n",
              "\n",
              "  [theme=dark] .colab-df-quickchart {\n",
              "    background-color: #3B4455;\n",
              "    fill: #D2E3FC;\n",
              "  }\n",
              "\n",
              "  [theme=dark] .colab-df-quickchart:hover {\n",
              "    background-color: #434B5C;\n",
              "    box-shadow: 0px 1px 3px 1px rgba(0, 0, 0, 0.15);\n",
              "    filter: drop-shadow(0px 1px 2px rgba(0, 0, 0, 0.3));\n",
              "    fill: #FFFFFF;\n",
              "  }\n",
              "</style>\n",
              "\n",
              "    <script>\n",
              "      async function quickchart(key) {\n",
              "        const containerElement = document.querySelector('#' + key);\n",
              "        const charts = await google.colab.kernel.invokeFunction(\n",
              "            'suggestCharts', [key], {});\n",
              "      }\n",
              "    </script>\n",
              "\n",
              "      <script>\n",
              "\n",
              "function displayQuickchartButton(domScope) {\n",
              "  let quickchartButtonEl =\n",
              "    domScope.querySelector('#df-39865e93-630f-4508-8bed-d02a840ded5a button.colab-df-quickchart');\n",
              "  quickchartButtonEl.style.display =\n",
              "    google.colab.kernel.accessAllowed ? 'block' : 'none';\n",
              "}\n",
              "\n",
              "        displayQuickchartButton(document);\n",
              "      </script>\n",
              "      <style>\n",
              "    .colab-df-container {\n",
              "      display:flex;\n",
              "      flex-wrap:wrap;\n",
              "      gap: 12px;\n",
              "    }\n",
              "\n",
              "    .colab-df-convert {\n",
              "      background-color: #E8F0FE;\n",
              "      border: none;\n",
              "      border-radius: 50%;\n",
              "      cursor: pointer;\n",
              "      display: none;\n",
              "      fill: #1967D2;\n",
              "      height: 32px;\n",
              "      padding: 0 0 0 0;\n",
              "      width: 32px;\n",
              "    }\n",
              "\n",
              "    .colab-df-convert:hover {\n",
              "      background-color: #E2EBFA;\n",
              "      box-shadow: 0px 1px 2px rgba(60, 64, 67, 0.3), 0px 1px 3px 1px rgba(60, 64, 67, 0.15);\n",
              "      fill: #174EA6;\n",
              "    }\n",
              "\n",
              "    [theme=dark] .colab-df-convert {\n",
              "      background-color: #3B4455;\n",
              "      fill: #D2E3FC;\n",
              "    }\n",
              "\n",
              "    [theme=dark] .colab-df-convert:hover {\n",
              "      background-color: #434B5C;\n",
              "      box-shadow: 0px 1px 3px 1px rgba(0, 0, 0, 0.15);\n",
              "      filter: drop-shadow(0px 1px 2px rgba(0, 0, 0, 0.3));\n",
              "      fill: #FFFFFF;\n",
              "    }\n",
              "  </style>\n",
              "\n",
              "      <script>\n",
              "        const buttonEl =\n",
              "          document.querySelector('#df-d6e9468b-271a-460b-ad41-082a707dda6a button.colab-df-convert');\n",
              "        buttonEl.style.display =\n",
              "          google.colab.kernel.accessAllowed ? 'block' : 'none';\n",
              "\n",
              "        async function convertToInteractive(key) {\n",
              "          const element = document.querySelector('#df-d6e9468b-271a-460b-ad41-082a707dda6a');\n",
              "          const dataTable =\n",
              "            await google.colab.kernel.invokeFunction('convertToInteractive',\n",
              "                                                     [key], {});\n",
              "          if (!dataTable) return;\n",
              "\n",
              "          const docLinkHtml = 'Like what you see? Visit the ' +\n",
              "            '<a target=\"_blank\" href=https://colab.research.google.com/notebooks/data_table.ipynb>data table notebook</a>'\n",
              "            + ' to learn more about interactive tables.';\n",
              "          element.innerHTML = '';\n",
              "          dataTable['output_type'] = 'display_data';\n",
              "          await google.colab.output.renderOutput(dataTable, element);\n",
              "          const docLink = document.createElement('div');\n",
              "          docLink.innerHTML = docLinkHtml;\n",
              "          element.appendChild(docLink);\n",
              "        }\n",
              "      </script>\n",
              "    </div>\n",
              "  </div>\n"
            ]
          },
          "metadata": {},
          "execution_count": 5
        }
      ]
    },
    {
      "cell_type": "code",
      "source": [
        "# crop the images using df filters and cv2 save in another  folder\n",
        "\n",
        "# import cv2\n",
        "# from tqdm import tqdm\n",
        "\n",
        "# for index,row in tqdm(df.iterrows()):\n",
        "#   imges=row['image_name']\n",
        "#   extrated_images='/content/drive/MyDrive/Colab Notebooks/processed_data/origin'\n",
        "#   images_path=os.path.join(extrated_images,imges)\n",
        "#   image=cv2.imread(images_path)\n",
        "#   if image is not None:\n",
        "#     face_top=row['face_box_top']\n",
        "#     face_left=row['face_box_left']\n",
        "#     face_right=row['face_box_right']\n",
        "#     face_bottom=row['face_box_bottom']\n",
        "#     # crop the face from image\n",
        "#     face=image[face_top:face_bottom,face_left:face_right]\n",
        "#     #create folder for crop images\n",
        "#     folder_path='/content/drive/MyDrive/Colab Notebooks/crop_images'\n",
        "#     os.makedirs(folder_path,exist_ok=True)\n",
        "#     crop_images_path = os.path.join(folder_path, imges)\n",
        "#     cv2.imwrite(crop_images_path, face)"
      ],
      "metadata": {
        "id": "EIkSmNIr9y7F"
      },
      "execution_count": 6,
      "outputs": []
    },
    {
      "cell_type": "code",
      "source": [
        "# label names\n",
        "labels=[\"angry\",\"disgust\",\"fear\",\"happy\", \"sad\",\"surprise\",\"neutral\"]"
      ],
      "metadata": {
        "id": "glXqYrXj-DnK"
      },
      "execution_count": 7,
      "outputs": []
    },
    {
      "cell_type": "code",
      "source": [
        "# creating sub-folders for label names\n",
        "\n",
        "# labels_folder='/content/drive/MyDrive/Colab Notebooks/processed_data/label_imgs'\n",
        "# for lbl in labels:\n",
        "#   os.makedirs(os.path.join(labels_folder,lbl),exist_ok=True)"
      ],
      "metadata": {
        "id": "i2Wo92Yb-PhC"
      },
      "execution_count": 8,
      "outputs": []
    },
    {
      "cell_type": "code",
      "source": [
        "# create dictionary for label\n",
        "mapper={\n",
        "0:\"angry\",\n",
        "1:\"disgust\",\n",
        "2:\"fear\",\n",
        "3:\"happy\",\n",
        "4:\"sad\",\n",
        "5:\"surprise\",\n",
        "6:\"neutral\"}"
      ],
      "metadata": {
        "id": "ckOjngjV-qO-"
      },
      "execution_count": 9,
      "outputs": []
    },
    {
      "cell_type": "code",
      "source": [
        "# store path of crop images and img_labels in variables\n",
        "images_path = '/content/drive/MyDrive/Colab Notebooks/crop_images'\n",
        "labels_path = '/content/drive/MyDrive/Colab Notebooks/crop_img_labels'"
      ],
      "metadata": {
        "id": "xbAzfwpX-8jv"
      },
      "execution_count": 10,
      "outputs": []
    },
    {
      "cell_type": "code",
      "source": [
        "# copy crop images into sub-folders of labels with shutil library\n",
        "\n",
        "# import shutil\n",
        "# from tqdm import tqdm\n",
        "\n",
        "# for label in tqdm(df.expression_label.unique()):\n",
        "#     new_df = df[df.expression_label == label]\n",
        "#     emotion = mapper[label]\n",
        "\n",
        "#     for image_name in new_df.image_name:\n",
        "#         img_path = os.path.join(images_path, image_name)\n",
        "#         if os.path.exists(img_path):\n",
        "#             dst_path = os.path.join(labels_path, emotion)\n",
        "#             shutil.copy(img_path, dst_path)"
      ],
      "metadata": {
        "id": "fA_5h44z_GlO"
      },
      "execution_count": 11,
      "outputs": []
    },
    {
      "cell_type": "code",
      "source": [
        "# check how many images are in sub-folders\n",
        "\n",
        "for folder in os.listdir(labels_path):\n",
        "  files=glob.glob(pathname=str(labels_path + '/' + folder +'/*.jpg'))\n",
        "  print(f'{len(files)} in folder {folder}')"
      ],
      "metadata": {
        "colab": {
          "base_uri": "https://localhost:8080/"
        },
        "id": "i55J6kxI_SzI",
        "outputId": "999869e8-637e-48ef-e0d0-a33716c92261"
      },
      "execution_count": 12,
      "outputs": [
        {
          "output_type": "stream",
          "name": "stdout",
          "text": [
            "2245 in folder angry\n",
            "2021 in folder disgust\n",
            "538 in folder fear\n",
            "2638 in folder sad\n",
            "15550 in folder happy\n",
            "14980 in folder neutral\n",
            "3395 in folder surprise\n"
          ]
        }
      ]
    },
    {
      "cell_type": "markdown",
      "source": [
        "Import necessary libraries"
      ],
      "metadata": {
        "id": "7sZbqML14aoc"
      }
    },
    {
      "cell_type": "code",
      "execution_count": 13,
      "metadata": {
        "id": "lbEmCKlS3lYJ"
      },
      "outputs": [],
      "source": [
        "import tensorflow as tf\n",
        "import matplotlib.pyplot as plt\n",
        "from sklearn.metrics import classification_report, confusion_matrix\n",
        "from keras.models import Sequential\n",
        "from keras.layers import Conv2D, MaxPooling2D, Flatten, Dense, Dropout\n",
        "from keras.optimizers import Adam\n",
        "from keras.preprocessing.image import ImageDataGenerator\n"
      ]
    },
    {
      "cell_type": "markdown",
      "source": [
        " Data Preprocessing and Augmentation\n",
        ""
      ],
      "metadata": {
        "id": "xfWUFi544PQ4"
      }
    },
    {
      "cell_type": "code",
      "source": [
        " train_datagen = ImageDataGenerator(\n",
        "    rescale=1.0/255.0,\n",
        "    rotation_range=20,\n",
        "    width_shift_range=0.1,\n",
        "    height_shift_range=0.1,\n",
        "    horizontal_flip=True\n",
        ")\n",
        "\n",
        "validation_datagen = ImageDataGenerator(rescale=1.0/255.0)\n",
        "\n",
        "train_generator = train_datagen.flow_from_directory(\n",
        "    '/content/drive/MyDrive/Colab Notebooks/processed_data/split folder/train',\n",
        "    target_size=(150, 150),  # Adjust to the desired input size\n",
        "    batch_size=32,\n",
        "    class_mode='categorical'\n",
        ")\n",
        "\n",
        "validation_generator = validation_datagen.flow_from_directory(\n",
        "    '/content/drive/MyDrive/Colab Notebooks/processed_data/split folder/val',\n",
        "    target_size=(150, 150),  # Adjust to the desired input size\n",
        "    batch_size=32,\n",
        "    class_mode='categorical'\n",
        ")\n"
      ],
      "metadata": {
        "colab": {
          "base_uri": "https://localhost:8080/"
        },
        "id": "1eOkTx874AvG",
        "outputId": "01b0ce16-c7e0-49b5-ae57-5fbebb44633a"
      },
      "execution_count": 14,
      "outputs": [
        {
          "output_type": "stream",
          "name": "stdout",
          "text": [
            "Found 33092 images belonging to 7 classes.\n",
            "Found 9421 images belonging to 7 classes.\n"
          ]
        }
      ]
    },
    {
      "cell_type": "markdown",
      "source": [
        "Build the CNN model"
      ],
      "metadata": {
        "id": "Vkkg49B54sZC"
      }
    },
    {
      "cell_type": "code",
      "source": [
        "model = Sequential()\n",
        "\n",
        "model.add(Conv2D(32, (3, 3), activation='relu', input_shape=(150, 150, 3)))\n",
        "model.add(MaxPooling2D((2, 2),strides=1,padding='valid'))\n",
        "\n",
        "model.add(Conv2D(64, (3, 3), activation='relu'))\n",
        "model.add(MaxPooling2D((2, 2),strides=1,padding='valid'))\n",
        "\n",
        "model.add(Conv2D(128, (3, 3), activation='relu'))\n",
        "model.add(MaxPooling2D((2, 2),strides=1,padding='valid'))\n",
        "\n",
        "model.add(Flatten())\n",
        "\n",
        "model.add(Dense(128, activation='relu'))\n",
        "model.add(Dropout(0.5))\n",
        "\n",
        "model.add(Dense(7, activation='softmax'))\n",
        "\n",
        "model.compile(optimizer=Adam(learning_rate=0.001),\n",
        "              loss='categorical_crossentropy',\n",
        "              metrics=['accuracy'])\n",
        "\n",
        "\n"
      ],
      "metadata": {
        "id": "CYgrkqur4r8D"
      },
      "execution_count": 15,
      "outputs": []
    },
    {
      "cell_type": "code",
      "source": [
        "model.summary()"
      ],
      "metadata": {
        "colab": {
          "base_uri": "https://localhost:8080/"
        },
        "id": "EcUK3S2KKH5B",
        "outputId": "e8d20c5d-243b-44fb-c8f9-586f8ddc5526"
      },
      "execution_count": 16,
      "outputs": [
        {
          "output_type": "stream",
          "name": "stdout",
          "text": [
            "Model: \"sequential\"\n",
            "_________________________________________________________________\n",
            " Layer (type)                Output Shape              Param #   \n",
            "=================================================================\n",
            " conv2d (Conv2D)             (None, 148, 148, 32)      896       \n",
            "                                                                 \n",
            " max_pooling2d (MaxPooling2D  (None, 147, 147, 32)     0         \n",
            " )                                                               \n",
            "                                                                 \n",
            " conv2d_1 (Conv2D)           (None, 145, 145, 64)      18496     \n",
            "                                                                 \n",
            " max_pooling2d_1 (MaxPooling  (None, 144, 144, 64)     0         \n",
            " 2D)                                                             \n",
            "                                                                 \n",
            " conv2d_2 (Conv2D)           (None, 142, 142, 128)     73856     \n",
            "                                                                 \n",
            " max_pooling2d_2 (MaxPooling  (None, 141, 141, 128)    0         \n",
            " 2D)                                                             \n",
            "                                                                 \n",
            " flatten (Flatten)           (None, 2544768)           0         \n",
            "                                                                 \n",
            " dense (Dense)               (None, 128)               325730432 \n",
            "                                                                 \n",
            " dropout (Dropout)           (None, 128)               0         \n",
            "                                                                 \n",
            " dense_1 (Dense)             (None, 7)                 903       \n",
            "                                                                 \n",
            "=================================================================\n",
            "Total params: 325,824,583\n",
            "Trainable params: 325,824,583\n",
            "Non-trainable params: 0\n",
            "_________________________________________________________________\n"
          ]
        }
      ]
    },
    {
      "cell_type": "markdown",
      "source": [
        " Train the model"
      ],
      "metadata": {
        "id": "jWx8dh-545ql"
      }
    },
    {
      "cell_type": "code",
      "source": [
        "history = model.fit(\n",
        "    train_generator,\n",
        "    steps_per_epoch=train_generator.samples // train_generator.batch_size,\n",
        "    validation_data=validation_generator,\n",
        "    validation_steps=validation_generator.samples // validation_generator.batch_size,\n",
        "    epochs=5\n",
        ")\n"
      ],
      "metadata": {
        "colab": {
          "base_uri": "https://localhost:8080/"
        },
        "id": "Ch2qHRRK45MQ",
        "outputId": "fa27b883-f278-4044-d8a9-dacbbd61fbe5"
      },
      "execution_count": null,
      "outputs": [
        {
          "output_type": "stream",
          "name": "stdout",
          "text": [
            "Epoch 1/5\n"
          ]
        }
      ]
    },
    {
      "cell_type": "markdown",
      "source": [
        "Evaluation and Confusion Matrix"
      ],
      "metadata": {
        "id": "9s-IRmNl5KkD"
      }
    },
    {
      "cell_type": "code",
      "source": [
        "# Get predictions on validation data\n",
        "y_pred = model.predict(validation_generator)\n",
        "\n",
        "# Convert one-hot encoded vectors back to labels\n",
        "y_true = np.argmax(validation_generator.classes, axis=1)\n",
        "y_pred = np.argmax(y_pred, axis=1)\n",
        "\n",
        "# Print classification report\n",
        "print(classification_report(y_true, y_pred))\n",
        "\n",
        "# Calculate and plot confusion matrix\n",
        "conf_matrix = confusion_matrix(y_true, y_pred)\n",
        "print(conf_matrix)\n",
        "\n",
        "# Plot accuracy and loss curves\n",
        "plt.figure(figsize=(12, 4))\n",
        "plt.subplot(1, 2, 1)\n",
        "plt.plot(history.history['accuracy'], label='Training Accuracy')\n",
        "plt.plot(history.history['val_accuracy'], label='Validation Accuracy')\n",
        "plt.legend()\n",
        "plt.title('Accuracy')\n",
        "\n",
        "plt.subplot(1, 2, 2)\n",
        "plt.plot(history.history['loss'], label='Training Loss')\n",
        "plt.plot(history.history['val_loss'], label='Validation Loss')\n",
        "plt.legend()\n",
        "plt.title('Loss')\n",
        "plt.show()\n"
      ],
      "metadata": {
        "id": "duuHYM0s5Gnd"
      },
      "execution_count": null,
      "outputs": []
    }
  ]
}